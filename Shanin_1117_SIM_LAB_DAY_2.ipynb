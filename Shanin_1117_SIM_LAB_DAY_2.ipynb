{
  "nbformat": 4,
  "nbformat_minor": 0,
  "metadata": {
    "colab": {
      "provenance": []
    },
    "kernelspec": {
      "name": "python3",
      "display_name": "Python 3"
    },
    "language_info": {
      "name": "python"
    }
  },
  "cells": [
    {
      "cell_type": "code",
      "execution_count": 1,
      "metadata": {
        "colab": {
          "base_uri": "https://localhost:8080/"
        },
        "id": "T-ztk-HqWcgw",
        "outputId": "4f2269aa-b7ed-456c-ce6f-43bf9796f064"
      },
      "outputs": [
        {
          "output_type": "stream",
          "name": "stdout",
          "text": [
            "Matrix A:\n",
            " [[ 1  7  5]\n",
            " [ 7  0  9]\n",
            " [ 9 10  3]]\n",
            "\n",
            "Matrix B:\n",
            " [[ 9  2  5]\n",
            " [ 9  6  5]\n",
            " [10  6  9]]\n",
            "\n",
            "Matrix A + Matrix B:\n",
            " [[10  9 10]\n",
            " [16  6 14]\n",
            " [19 16 12]]\n",
            "\n",
            "Matrix A - Matrix B:\n",
            " [[-8  5  0]\n",
            " [-2 -6  4]\n",
            " [-1  4 -6]]\n",
            "\n",
            "Matrix A * Matrix B:\n",
            " [[122  74  85]\n",
            " [153  68 116]\n",
            " [201  96 122]]\n",
            "\n",
            "Determinant of Matrix A: 679.9999999999998\n",
            "\n",
            "Inverse of Matrix A:\n",
            " [[-0.13235294  0.04264706  0.09264706]\n",
            " [ 0.08823529 -0.06176471  0.03823529]\n",
            " [ 0.10294118  0.07794118 -0.07205882]]\n",
            "\n",
            "Rank of Matrix A: 3\n"
          ]
        }
      ],
      "source": [
        "import numpy as np\n",
        "\n",
        "# Create two 3x3 matrices with random integers between 0 and 10 (inclusive)\n",
        "matrix_a = np.random.randint(0, 11, size=(3, 3))\n",
        "matrix_b = np.random.randint(0, 11, size=(3, 3))\n",
        "\n",
        "print(\"Matrix A:\\n\", matrix_a)\n",
        "print(\"\\nMatrix B:\\n\", matrix_b)\n",
        "\n",
        "# Perform matrix operations\n",
        "matrix_sum = matrix_a + matrix_b\n",
        "matrix_difference = matrix_a - matrix_b\n",
        "matrix_product = np.dot(matrix_a, matrix_b) # or matrix_a @ matrix_b\n",
        "\n",
        "print(\"\\nMatrix A + Matrix B:\\n\", matrix_sum)\n",
        "print(\"\\nMatrix A - Matrix B:\\n\", matrix_difference)\n",
        "print(\"\\nMatrix A * Matrix B:\\n\", matrix_product)\n",
        "\n",
        "# Compute determinant, inverse, and rank of Matrix A\n",
        "determinant_a = np.linalg.det(matrix_a)\n",
        "print(\"\\nDeterminant of Matrix A:\", determinant_a)\n",
        "\n",
        "# Check if the matrix is invertible before computing the inverse\n",
        "if np.linalg.det(matrix_a) != 0:\n",
        "    inverse_a = np.linalg.inv(matrix_a)\n",
        "    print(\"\\nInverse of Matrix A:\\n\", inverse_a)\n",
        "else:\n",
        "    print(\"\\nMatrix A is singular and does not have an inverse.\")\n",
        "\n",
        "rank_a = np.linalg.matrix_rank(matrix_a)\n",
        "print(\"\\nRank of Matrix A:\", rank_a)"
      ]
    }
  ]
}